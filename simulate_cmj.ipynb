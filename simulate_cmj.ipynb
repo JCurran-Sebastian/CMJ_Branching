{
 "cells": [
  {
   "cell_type": "code",
   "execution_count": 1,
   "metadata": {},
   "outputs": [],
   "source": [
    "import numpy as np\n",
    "import scipy as sp\n",
    "from scipy.linalg import toeplitz\n",
    "import matplotlib.pyplot as plt\n",
    "from time import time as timer\n",
    "import Branching_Process as bp\n",
    "import pandas as pd\n",
    "from tqdm import tqdm\n",
    "import importlib\n",
    "import seaborn as sns\n",
    "from joblib import Parallel, delayed\n",
    "import os\n",
    "\n",
    "sns.set_palette('Set2')\n",
    "cmap = sns.color_palette('Set2')"
   ]
  },
  {
   "cell_type": "code",
   "execution_count": 25,
   "metadata": {},
   "outputs": [
    {
     "name": "stdout",
     "output_type": "stream",
     "text": [
      "R0 is: 1.5000000000000147\n"
     ]
    }
   ],
   "source": [
    "Tmax = 200\n",
    "time_step = 0.5\n",
    "nsteps = int(Tmax / time_step) +1\n",
    "time = np.linspace(0, Tmax, num=nsteps)\n",
    "time_step = time[1] - time[0]\n",
    "\n",
    "R_eff = 3\n",
    "t_lockdown = 30\n",
    "\n",
    "\n",
    "eta = 0.2\n",
    "\n",
    "gmean = 4.87\n",
    "gsd = 1.98\n",
    "a = gmean**2 / gsd**2\n",
    "b = gsd**2 / gmean\n",
    "\n",
    "\n",
    "\n",
    "# Define distributions for the lifetime, infectivity profile and population-level transmission rate\n",
    "# For Crump-Mode-Jagers Process\n",
    "\n",
    "def lifetime(t):\n",
    "    return sp.stats.gamma.cdf(t, a = a, scale = b) # sp.stats.expon.cdf(t, scale = 1/gamma_test)\n",
    "\n",
    "def lifetime_pdf(t):\n",
    "    return sp.stats.gamma.pdf(t, a = a, scale = b) # sp.stats.expon.pdf(t, scale = 1/gamma_test)\n",
    "\n",
    "def infectiousness(t):\n",
    "    return sp.stats.gamma.cdf(t, a = a, scale = b)\n",
    "\n",
    "def infectiousness_pdf(t):\n",
    "    return sp.stats.gamma.pdf(t, a = a, scale = b)\n",
    "\n",
    "#def Rt(t, R=R_eff):\n",
    "#    return R\n",
    "Rt = 3 * np.ones_like(time)\n",
    "\n",
    "def intensity_measure(t):\n",
    "    return R_eff * infectiousness_pdf(t) * (1-lifetime(t)) #* (1-lifetime(t, 0))\n",
    "\n",
    "\n",
    "R0_true = sp.integrate.quad(intensity_measure, 0, 100)[0]\n",
    "\n",
    "print('R0 is: ' + str(R0_true))"
   ]
  },
  {
   "cell_type": "code",
   "execution_count": 572,
   "metadata": {},
   "outputs": [
    {
     "name": "stdout",
     "output_type": "stream",
     "text": [
      "0.32281712651393313\n"
     ]
    },
    {
     "data": {
      "text/plain": [
       "[]"
      ]
     },
     "execution_count": 572,
     "metadata": {},
     "output_type": "execute_result"
    }
   ],
   "source": [
    "#Poisson_generator(R_eff, infectiousness_pdf(time)[:100], 0.5)\n",
    "def foi_t(t, time_step = time_step):\n",
    "    return R_eff * (infectiousness(t) - infectiousness(t-time_step)) \n",
    "\n",
    "lambdaMax = np.max(foi_t(time))\n",
    "print(lambdaMax)\n",
    "\n",
    "\n",
    "# Arrival times in poisson process - snap to grid of points\n",
    "def inhomogeneous_poisson(rate, bin_size, lamMax):\n",
    "    arrival_times = []\n",
    "    t = 0\n",
    "    while t <= 20:\n",
    "        u1 = np.random.rand()\n",
    "        t = t - (1/lamMax)*np.log(u1)\n",
    "        u2 = np.random.rand()\n",
    "        if u2 < (rate(t)/lamMax):\n",
    "            arrival_times += [int((t - t%bin_size)/bin_size) + 1]\n",
    "    return arrival_times\n",
    "\n",
    "\n",
    "inhomogeneous_poisson(foi_t, 0.5, lambdaMax)\n"
   ]
  },
  {
   "cell_type": "code",
   "execution_count": 584,
   "metadata": {},
   "outputs": [
    {
     "name": "stderr",
     "output_type": "stream",
     "text": [
      "100%|██████████| 30000/30000 [2:25:51<00:00,  3.43it/s]  \n"
     ]
    }
   ],
   "source": [
    "nsims = 30000\n",
    "\n",
    "def CMJsimulate(nsims, time, infectiousness, Z0, Zstar = 1000):\n",
    "    nsteps = len(time)\n",
    "    h = time[1]-time[0]\n",
    "    Z=np.zeros((nsims, int(nsteps)))\n",
    "    Z[:, 0] = Z0\n",
    "    prev = np.zeros((nsims, int(nsteps)))\n",
    "\n",
    "    tstops = np.zeros(nsims)\n",
    "    #nintervals = int(T/h)\n",
    "    for i in tqdm(range(nsims)):\n",
    "    \n",
    "        for t in range(len(time)):\n",
    "            \n",
    "            nlifetimes = int(Z[i, t])\n",
    "\n",
    "            # Generate all lifetimes at once\n",
    "            lifetimes = (np.random.gamma(a, b, size = nlifetimes))\n",
    "            intervals = t + lifetimes \n",
    "            diff = (intervals + 1) % h \n",
    "            recoveries = ((intervals - diff)/h).astype(int)\n",
    "            \n",
    "            if len(recoveries) == 0:\n",
    "                continue\n",
    "                \n",
    "            # Generate all of the infections that each individual will make via a Poisson process \n",
    "            for r in recoveries:\n",
    "                if t + r <= len(time - 1):\n",
    "                    prev[i, t:(t+r)] += 1\n",
    "                else:\n",
    "                    prev[i, t:] += 1\n",
    "                if r == 0: # Avoid case where r-1 = -1\n",
    "                    continue\n",
    "                arrivals = inhomogeneous_poisson(foi_t, h, lambdaMax)\n",
    "                for ar in arrivals:\n",
    "                    arrival_idx = t + ar\n",
    "                    if arrival_idx <= (len(time)-1):\n",
    "                        Z[i, arrival_idx] += 1\n",
    "            if prev[i, t] >= Zstar:\n",
    "                tstops[i] = time[t]\n",
    "                break\n",
    "            \n",
    "    return tstops\n",
    "\n",
    "fptsims = CMJsimulate(nsims, time, infectiousness, 1)"
   ]
  },
  {
   "cell_type": "code",
   "execution_count": 585,
   "metadata": {},
   "outputs": [],
   "source": [
    "np.savetxt('FPT_sim_R=' + str(np.round(R_eff/2, 1)) + '.csv', fptsims[fptsims!=0])"
   ]
  },
  {
   "cell_type": "code",
   "execution_count": 586,
   "metadata": {},
   "outputs": [],
   "source": [
    "np.savetxt('FPT_sim_R=' + str(np.round(R_eff/2, 1)) + '_large.csv', fptsims[fptsims!=0])"
   ]
  },
  {
   "cell_type": "code",
   "execution_count": 511,
   "metadata": {},
   "outputs": [],
   "source": [
    "fptsims = np.genfromtxt('FPT_sim_R=' + str(np.round(R_eff/2, 1)) + '.csv')"
   ]
  },
  {
   "cell_type": "code",
   "execution_count": 471,
   "metadata": {},
   "outputs": [],
   "source": [
    "\n",
    "pmf = np.genfromtxt('pmf_test_large.csv')\n"
   ]
  },
  {
   "cell_type": "code",
   "execution_count": 580,
   "metadata": {},
   "outputs": [],
   "source": [
    "\n",
    "mean = bp.mean_pmf(pmf)\n",
    "extinction = pmf[0, :]\n",
    "Zstar = 175\n",
    "try:\n",
    "    tstar_idx = np.argwhere(mean >= Zstar)[1][0]#np.argwhere(np.gradient(extinction, time_step)<= 0.0001)[1][0]\n",
    "except:\n",
    "    tstar_idx = -1\n",
    "tstar = time[tstar_idx]\n",
    "#int(mean[tstar_idx]) + 1\n",
    "FPT_cdf = bp.FirstPassageTime(pmf, Zstar, time, False)\n",
    "fpt_pdf = np.gradient(FPT_cdf, time_step)\n"
   ]
  },
  {
   "cell_type": "code",
   "execution_count": 581,
   "metadata": {},
   "outputs": [
    {
     "data": {
      "text/plain": [
       "[<matplotlib.lines.Line2D at 0x3b49997b0>]"
      ]
     },
     "execution_count": 581,
     "metadata": {},
     "output_type": "execute_result"
    },
    {
     "data": {
      "image/png": "[encoded data removed]",
      "text/plain": [
       "<Figure size 640x480 with 1 Axes>"
      ]
     },
     "metadata": {},
     "output_type": "display_data"
    }
   ],
   "source": [
    "sns.histplot(fptsims[fptsims!=0] , stat = 'density', bins = 15)\n",
    "plt.plot(time, fpt_pdf, color = 'tab:red')"
   ]
  }
 ],
 "metadata": {
  "kernelspec": {
   "display_name": "Python 3",
   "language": "python",
   "name": "python3"
  },
  "language_info": {
   "codemirror_mode": {
    "name": "ipython",
    "version": 3
   },
   "file_extension": ".py",
   "mimetype": "text/x-python",
   "name": "python",
   "nbconvert_exporter": "python",
   "pygments_lexer": "ipython3",
   "version": "3.10.9"
  }
 },
 "nbformat": 4,
 "nbformat_minor": 2
}
