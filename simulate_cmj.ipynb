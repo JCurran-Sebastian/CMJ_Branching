{
 "cells": [
  {
   "cell_type": "code",
   "execution_count": 55,
   "metadata": {},
   "outputs": [],
   "source": [
    "import numpy as np\n",
    "import scipy as sp\n",
    "from scipy.linalg import toeplitz\n",
    "import matplotlib.pyplot as plt\n",
    "from time import time as timer\n",
    "import Branching_Process as bp\n",
    "import pandas as pd\n",
    "from tqdm import tqdm\n",
    "import importlib\n",
    "import seaborn as sns\n",
    "from joblib import Parallel, delayed\n",
    "import os\n",
    "\n",
    "sns.set_palette('Set2')\n",
    "cmap = sns.color_palette('Set2')"
   ]
  },
  {
   "cell_type": "code",
   "execution_count": 94,
   "metadata": {},
   "outputs": [],
   "source": [
    "Tmax = 200\n",
    "time_step = 0.5\n",
    "nsteps = int(Tmax / time_step) +1\n",
    "time = np.linspace(0, Tmax, num=nsteps)\n",
    "time_step = time[1] - time[0]\n",
    "beta_test = 2/7\n",
    "gamma_test = 1/7\n",
    "omega = beta_test + gamma_test\n",
    "growth_rate = beta_test - gamma_test\n",
    "R_eff = 3\n",
    "t_lockdown = 30\n",
    "\n",
    "\n",
    "eta = 0.2\n",
    "\n",
    "a = 6\n",
    "b = 0.833\n",
    "\n",
    "\n",
    "# Define distributions for the lifetime, infectivity profile and population-level transmission rate\n",
    "# For Crump-Mode-Jagers Process\n",
    "\n",
    "def lifetime(t):\n",
    "    return sp.stats.gamma.cdf(t, a = a, scale = b) # sp.stats.expon.cdf(t, scale = 1/gamma_test)\n",
    "\n",
    "def lifetime_pdf(t):\n",
    "    return sp.stats.gamma.pdf(t, a = a, scale = b) # sp.stats.expon.pdf(t, scale = 1/gamma_test)\n",
    "\n",
    "def infectiousness(t):\n",
    "    return sp.stats.gamma.cdf(t, a = a, scale = b)\n",
    "\n",
    "def infectiousness_pdf(t):\n",
    "    return sp.stats.gamma.pdf(t, a = a, scale = b)\n",
    "\n",
    "#def Rt(t, R=R_eff):\n",
    "#    return R\n",
    "Rt = 3 * np.ones_like(time)\n"
   ]
  },
  {
   "cell_type": "code",
   "execution_count": 90,
   "metadata": {},
   "outputs": [],
   "source": [
    "def Poisson_generator(Rt, infectiousness, h):\n",
    "        Poissons = np.random.poisson(Rt * infectiousness * h)\n",
    "        return Poissons"
   ]
  },
  {
   "cell_type": "code",
   "execution_count": 91,
   "metadata": {},
   "outputs": [
    {
     "name": "stderr",
     "output_type": "stream",
     "text": [
      "100%|██████████| 100/100 [00:03<00:00, 27.16it/s]\n"
     ]
    }
   ],
   "source": [
    "nsims = 100\n",
    "\n",
    "def CMJsimulate(nsims, time, infectiousness, Z0, Zstar = 167):\n",
    "    nsteps = len(time)\n",
    "    h = time[1]-time[0]\n",
    "    Z=np.zeros((nsims, int(nsteps)))\n",
    "    Z[:, 0] = Z0\n",
    "    \n",
    "\n",
    "    tstops = np.zeros(nsims)\n",
    "    #nintervals = int(T/h)\n",
    "    for i in tqdm(range(nsims)):\n",
    "        for t in range(len(time)):\n",
    "            nlifetimes = int(Z[i, t])\n",
    "            lifetimes = (np.random.gamma(a, b, size = nlifetimes))\n",
    "            intervals = t + lifetimes \n",
    "            diff = (intervals + 1) % h \n",
    "            recoveries = ((intervals - diff)/h).astype(int)\n",
    "            #print(len(recoveries))\n",
    "            if len(recoveries) == 0:\n",
    "                continue\n",
    "                \n",
    "            \n",
    "            for r in recoveries:\n",
    "                #print(t, r)\n",
    "                if nsteps > t + r:\n",
    "                    Rs = Rt[(t+1):(t+r)]\n",
    "                    iss = infectiousness(time)[:r-1]\n",
    "                    new_infecteds = Poisson_generator(Rs, iss, h)\n",
    "                    #print(len(Rs), len(iss))\n",
    "                    Z[i, (t+1):(t+r)] += new_infecteds\n",
    "                else:\n",
    "                    \n",
    "                    Rs = Rt[(t+1):]\n",
    "                    assert(len(Rt) == len(Z[i,:]))\n",
    "                    iss = infectiousness(time)[:-(t+1)]\n",
    "                    new_infecteds = Poisson_generator(Rs, iss, h)\n",
    "                    #print(len(Rs), len(iss))\n",
    "                    Z[i, (t+1):] += new_infecteds\n",
    "            if Z[i, t] > Zstar:\n",
    "                tstops[i] = time[t]\n",
    "                break\n",
    "    return tstops\n",
    "\n",
    "tbeeps = CMJsimulate(nsims, time, infectiousness, 1)"
   ]
  },
  {
   "cell_type": "code",
   "execution_count": 92,
   "metadata": {},
   "outputs": [
    {
     "data": {
      "text/plain": [
       "array([ 0. , 27. ,  0. ,  0. ,  0. ,  0. , 28. ,  0. ,  0. , 27. ,  0. ,\n",
       "       26.5,  0. , 35. ,  0. , 25. , 28. , 24.5,  0. ,  0. , 26.5,  0. ,\n",
       "       34. ,  0. ,  0. ,  0. ,  0. , 30. , 26.5, 27.5, 31. ,  0. ,  0. ,\n",
       "       25.5, 28.5, 30. ,  0. , 25. , 32. ,  0. , 28. , 29. ,  0. , 30. ,\n",
       "        0. , 31.5,  0. , 28. ,  0. ,  0. ,  0. , 29. ,  0. ,  0. ,  0. ,\n",
       "        0. , 28. ,  0. ,  0. ,  0. ,  0. ,  0. , 29.5,  0. ,  0. , 25.5,\n",
       "       27. ,  0. ,  0. ,  0. ,  0. , 31.5,  0. , 29. ,  0. , 27.5,  0. ,\n",
       "       26. ,  0. ,  0. , 28.5,  0. ,  0. ,  0. , 32. , 32.5, 29. ,  0. ,\n",
       "        0. , 26.5,  0. , 29. , 29. , 25. ,  0. ,  0. ,  0. , 26. , 28.5,\n",
       "        0. ])"
      ]
     },
     "execution_count": 92,
     "metadata": {},
     "output_type": "execute_result"
    }
   ],
   "source": [
    "tbeeps"
   ]
  },
  {
   "cell_type": "code",
   "execution_count": 93,
   "metadata": {},
   "outputs": [
    {
     "data": {
      "text/plain": [
       "<Axes: ylabel='Density'>"
      ]
     },
     "execution_count": 93,
     "metadata": {},
     "output_type": "execute_result"
    },
    {
     "data": {
      "image/png": "[encoded data removed]",
      "text/plain": [
       "<Figure size 640x480 with 1 Axes>"
      ]
     },
     "metadata": {},
     "output_type": "display_data"
    }
   ],
   "source": [
    "sns.histplot(tbeeps[tbeeps!=0], stat = 'density', bins = len(np.unique(tbeeps)))"
   ]
  },
  {
   "cell_type": "code",
   "execution_count": null,
   "metadata": {},
   "outputs": [
    {
     "data": {
      "text/plain": [
       "0.20000000000000007"
      ]
     },
     "execution_count": 26,
     "metadata": {},
     "output_type": "execute_result"
    }
   ],
   "source": [
    "\n"
   ]
  },
  {
   "cell_type": "code",
   "execution_count": null,
   "metadata": {},
   "outputs": [],
   "source": []
  }
 ],
 "metadata": {
  "kernelspec": {
   "display_name": "Python 3",
   "language": "python",
   "name": "python3"
  },
  "language_info": {
   "codemirror_mode": {
    "name": "ipython",
    "version": 3
   },
   "file_extension": ".py",
   "mimetype": "text/x-python",
   "name": "python",
   "nbconvert_exporter": "python",
   "pygments_lexer": "ipython3",
   "version": "3.10.9"
  }
 },
 "nbformat": 4,
 "nbformat_minor": 2
}
